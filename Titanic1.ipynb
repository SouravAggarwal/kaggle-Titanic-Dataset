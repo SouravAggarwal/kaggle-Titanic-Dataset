{
 "cells": [
  {
   "cell_type": "code",
   "execution_count": 1,
   "metadata": {
    "collapsed": true
   },
   "outputs": [],
   "source": [
    "import pandas as pd\n",
    "import numpy as np \n",
    "import matplotlib.pyplot as plt\n",
    "%matplotlib inline\n",
    "from fuzzywuzzy import fuzz"
   ]
  },
  {
   "cell_type": "code",
   "execution_count": 2,
   "metadata": {},
   "outputs": [
    {
     "name": "stderr",
     "output_type": "stream",
     "text": [
      "Using TensorFlow backend.\n"
     ]
    }
   ],
   "source": [
    "from keras.utils import to_categorical\n",
    "from sklearn.metrics import accuracy_score"
   ]
  },
  {
   "cell_type": "code",
   "execution_count": 3,
   "metadata": {},
   "outputs": [
    {
     "data": {
      "text/html": [
       "<div>\n",
       "<style>\n",
       "    .dataframe thead tr:only-child th {\n",
       "        text-align: right;\n",
       "    }\n",
       "\n",
       "    .dataframe thead th {\n",
       "        text-align: left;\n",
       "    }\n",
       "\n",
       "    .dataframe tbody tr th {\n",
       "        vertical-align: top;\n",
       "    }\n",
       "</style>\n",
       "<table border=\"1\" class=\"dataframe\">\n",
       "  <thead>\n",
       "    <tr style=\"text-align: right;\">\n",
       "      <th></th>\n",
       "      <th>PassengerId</th>\n",
       "      <th>Survived</th>\n",
       "      <th>Pclass</th>\n",
       "      <th>Name</th>\n",
       "      <th>Sex</th>\n",
       "      <th>Age</th>\n",
       "      <th>SibSp</th>\n",
       "      <th>Parch</th>\n",
       "      <th>Ticket</th>\n",
       "      <th>Fare</th>\n",
       "      <th>Cabin</th>\n",
       "      <th>Embarked</th>\n",
       "    </tr>\n",
       "  </thead>\n",
       "  <tbody>\n",
       "    <tr>\n",
       "      <th>0</th>\n",
       "      <td>1</td>\n",
       "      <td>0</td>\n",
       "      <td>3</td>\n",
       "      <td>Braund, Mr. Owen Harris</td>\n",
       "      <td>male</td>\n",
       "      <td>22.0</td>\n",
       "      <td>1</td>\n",
       "      <td>0</td>\n",
       "      <td>A/5 21171</td>\n",
       "      <td>7.2500</td>\n",
       "      <td>NaN</td>\n",
       "      <td>S</td>\n",
       "    </tr>\n",
       "    <tr>\n",
       "      <th>1</th>\n",
       "      <td>2</td>\n",
       "      <td>1</td>\n",
       "      <td>1</td>\n",
       "      <td>Cumings, Mrs. John Bradley (Florence Briggs Th...</td>\n",
       "      <td>female</td>\n",
       "      <td>38.0</td>\n",
       "      <td>1</td>\n",
       "      <td>0</td>\n",
       "      <td>PC 17599</td>\n",
       "      <td>71.2833</td>\n",
       "      <td>C85</td>\n",
       "      <td>C</td>\n",
       "    </tr>\n",
       "    <tr>\n",
       "      <th>2</th>\n",
       "      <td>3</td>\n",
       "      <td>1</td>\n",
       "      <td>3</td>\n",
       "      <td>Heikkinen, Miss. Laina</td>\n",
       "      <td>female</td>\n",
       "      <td>26.0</td>\n",
       "      <td>0</td>\n",
       "      <td>0</td>\n",
       "      <td>STON/O2. 3101282</td>\n",
       "      <td>7.9250</td>\n",
       "      <td>NaN</td>\n",
       "      <td>S</td>\n",
       "    </tr>\n",
       "    <tr>\n",
       "      <th>3</th>\n",
       "      <td>4</td>\n",
       "      <td>1</td>\n",
       "      <td>1</td>\n",
       "      <td>Futrelle, Mrs. Jacques Heath (Lily May Peel)</td>\n",
       "      <td>female</td>\n",
       "      <td>35.0</td>\n",
       "      <td>1</td>\n",
       "      <td>0</td>\n",
       "      <td>113803</td>\n",
       "      <td>53.1000</td>\n",
       "      <td>C123</td>\n",
       "      <td>S</td>\n",
       "    </tr>\n",
       "    <tr>\n",
       "      <th>4</th>\n",
       "      <td>5</td>\n",
       "      <td>0</td>\n",
       "      <td>3</td>\n",
       "      <td>Allen, Mr. William Henry</td>\n",
       "      <td>male</td>\n",
       "      <td>35.0</td>\n",
       "      <td>0</td>\n",
       "      <td>0</td>\n",
       "      <td>373450</td>\n",
       "      <td>8.0500</td>\n",
       "      <td>NaN</td>\n",
       "      <td>S</td>\n",
       "    </tr>\n",
       "  </tbody>\n",
       "</table>\n",
       "</div>"
      ],
      "text/plain": [
       "   PassengerId  Survived  Pclass  \\\n",
       "0            1         0       3   \n",
       "1            2         1       1   \n",
       "2            3         1       3   \n",
       "3            4         1       1   \n",
       "4            5         0       3   \n",
       "\n",
       "                                                Name     Sex   Age  SibSp  \\\n",
       "0                            Braund, Mr. Owen Harris    male  22.0      1   \n",
       "1  Cumings, Mrs. John Bradley (Florence Briggs Th...  female  38.0      1   \n",
       "2                             Heikkinen, Miss. Laina  female  26.0      0   \n",
       "3       Futrelle, Mrs. Jacques Heath (Lily May Peel)  female  35.0      1   \n",
       "4                           Allen, Mr. William Henry    male  35.0      0   \n",
       "\n",
       "   Parch            Ticket     Fare Cabin Embarked  \n",
       "0      0         A/5 21171   7.2500   NaN        S  \n",
       "1      0          PC 17599  71.2833   C85        C  \n",
       "2      0  STON/O2. 3101282   7.9250   NaN        S  \n",
       "3      0            113803  53.1000  C123        S  \n",
       "4      0            373450   8.0500   NaN        S  "
      ]
     },
     "execution_count": 3,
     "metadata": {},
     "output_type": "execute_result"
    }
   ],
   "source": [
    "df = pd.read_csv(\"./train.csv\")\n",
    "\n",
    "#print(df.corr())\n",
    "df.head()"
   ]
  },
  {
   "cell_type": "code",
   "execution_count": 4,
   "metadata": {},
   "outputs": [
    {
     "data": {
      "text/plain": [
       "<matplotlib.axes._subplots.AxesSubplot at 0x7efe0fd1ff98>"
      ]
     },
     "execution_count": 4,
     "metadata": {},
     "output_type": "execute_result"
    },
    {
     "data": {
      "image/png": "[encoded data removed]",
      "text/plain": [
       "<matplotlib.figure.Figure at 0x7efe1055eef0>"
      ]
     },
     "metadata": {},
     "output_type": "display_data"
    }
   ],
   "source": [
    "import seaborn as sns\n",
    "#sns.pairplot(df,hue=\"Survived\")\n",
    "sns.heatmap(df.corr(),annot=True)\n",
    "\n",
    "# Defining Age\n",
    "#df=fare_process(df)\n",
    "#df[\"Sex\"][df[\"Age\"].isnull() & df[\"Survived\"] == 1].value_counts()\n",
    "\n",
    "#df[df[\"Cabin\"].isnull() == True].count()"
   ]
  },
  {
   "cell_type": "code",
   "execution_count": 5,
   "metadata": {},
   "outputs": [
    {
     "data": {
      "text/plain": [
       "0    False\n",
       "1    False\n",
       "dtype: bool"
      ]
     },
     "execution_count": 5,
     "metadata": {},
     "output_type": "execute_result"
    }
   ],
   "source": [
    "Y=pd.DataFrame(to_categorical(df[\"Survived\"]))\n",
    "Y.isnull().any()"
   ]
  },
  {
   "cell_type": "code",
   "execution_count": 6,
   "metadata": {
    "collapsed": true
   },
   "outputs": [],
   "source": [
    "def createdummy(df,colname):\n",
    "    dummies= pd.get_dummies(df[colname],prefix=colname)\n",
    "    df=pd.concat([df,dummies],axis=1)\n",
    "    return dummies\n",
    "\n",
    "\n",
    "def pclass_process(df):\n",
    "    df[\"Pclass\"]=df[\"Pclass\"].fillna(3)\n",
    "    return createdummy(df,\"Pclass\")\n",
    "\n",
    "\n",
    "def fare_process(df):\n",
    "    df[\"Fare\"]=df[\"Fare\"].fillna(0)\n",
    "    cutpoints=[-1,10,20,30,45,66,90,500]\n",
    "    labels=['a','b','c','d','e','f','g']\n",
    "    df[\"Fare1\"]=pd.cut(df[\"Fare\"],cutpoints,labels=labels)\n",
    "    #return df\n",
    "    return createdummy(df,\"Fare1\")\n",
    "\n",
    "\n",
    "def embarked_process(df):\n",
    "    #df[\"Embarked\"].value_counts()\n",
    "    df[\"Embarked\"] = df[\"Embarked\"].fillna(\"S\")\n",
    "    return createdummy(df,\"Embarked\")\n",
    "\n",
    "\n",
    "def age_process(df):\n",
    "    df[\"Age\"]=df[\"Age\"].fillna(-0.5)\n",
    "    cutpoints=[-1,0,5,12,18,35,60,150]\n",
    "    labels=[\"Missing\",\"Infant\",\"Child\",\"Teenager\",\"Young\",\"Adult\",\"Senior\"]\n",
    "    df[\"Age1\"] = pd.cut(df[\"Age\"],cutpoints,labels=labels)\n",
    "    return createdummy(df,\"Age1\")\n",
    "\n",
    "\n",
    "def sex_process(df):\n",
    "        df[\"Sex\"]=df[\"Sex\"].fillna(\"male\")\n",
    "        return createdummy(df,\"Sex\")\n",
    "    \n",
    "    \n",
    "def name_process(df):\n",
    "    for i in range(len(df)):\n",
    "        df.loc[i, (\"NameInn\")] =0\n",
    "        if 100 == fuzz.partial_ratio(\"Mr.\",df[\"Name\"][i]):\n",
    "            df.loc[i, (\"NameInn\")] =1\n",
    "        elif 100 == fuzz.partial_ratio(\"Mrs.\",df[\"Name\"][i]):\n",
    "            df.loc[i, (\"NameInn\")] =2\n",
    "        elif 100 == fuzz.partial_ratio(\"Miss.\",df[\"Name\"][i]):\n",
    "            df.loc[i, (\"NameInn\")] =3\n",
    "        elif 100 == fuzz.partial_ratio(\"Master.\",df[\"Name\"][i]):\n",
    "            df.loc[i, (\"NameInn\")] =4\n",
    "        # to check values, out of loop\n",
    "        #print(df[\"NameInn\"].value_counts())\n",
    "    return createdummy(df,\"NameInn\")\n",
    "\n",
    "\n",
    "def family_size(df):\n",
    "    df[\"FamilySize\"]=df[\"SibSp\"] + df[\"Parch\"]\n",
    "    return createdummy(df,\"FamilySize\")"
   ]
  },
  {
   "cell_type": "code",
   "execution_count": 7,
   "metadata": {
    "collapsed": true
   },
   "outputs": [],
   "source": [
    "df1 =pclass_process(df)\n",
    "df2=fare_process(df)\n",
    "df3=embarked_process(df)\n",
    "df4=age_process(df)\n",
    "df5=sex_process(df)\n",
    "df6=name_process(df)\n",
    "df7=family_size(df)\n",
    "\n",
    "X=pd.concat([df[\"SibSp\"],df[\"Parch\"],df1,df2,df3,df4,df5,df6,df7],axis=1)\n"
   ]
  },
  {
   "cell_type": "code",
   "execution_count": 8,
   "metadata": {},
   "outputs": [
    {
     "data": {
      "text/plain": [
       "(801, 38)"
      ]
     },
     "execution_count": 8,
     "metadata": {},
     "output_type": "execute_result"
    }
   ],
   "source": [
    "from sklearn.model_selection import train_test_split\n",
    "X_train, X_test, y_train, y_test = train_test_split(X.values,Y,test_size=0.1)\n",
    "X_train.shape"
   ]
  },
  {
   "cell_type": "code",
   "execution_count": 9,
   "metadata": {},
   "outputs": [
    {
     "name": "stdout",
     "output_type": "stream",
     "text": [
      "_________________________________________________________________\n",
      "Layer (type)                 Output Shape              Param #   \n",
      "=================================================================\n",
      "dense_1 (Dense)              (None, 30)                1170      \n",
      "_________________________________________________________________\n",
      "dense_2 (Dense)              (None, 12)                372       \n",
      "_________________________________________________________________\n",
      "dense_3 (Dense)              (None, 8)                 104       \n",
      "_________________________________________________________________\n",
      "dense_4 (Dense)              (None, 2)                 18        \n",
      "=================================================================\n",
      "Total params: 1,664\n",
      "Trainable params: 1,664\n",
      "Non-trainable params: 0\n",
      "_________________________________________________________________\n"
     ]
    }
   ],
   "source": [
    "from keras.models import Sequential\n",
    "from keras.layers import Dense\n",
    "from keras.optimizers import Adam,RMSprop\n",
    "import keras.backend as K\n",
    "\n",
    "K.clear_session()\n",
    "model= Sequential()\n",
    "model.add(Dense(30,input_shape=(38 ,), activation=\"relu\"))\n",
    "model.add(Dense(12,activation=\"relu\"))\n",
    "model.add(Dense(8,activation=\"relu\"))\n",
    "model.add(Dense(2,activation=\"softmax\"))\n",
    "\n",
    "model.compile(Adam(lr=0.001), \"categorical_crossentropy\",metrics=[\"accuracy\"])\n",
    "model.summary()\n",
    "\n",
    "\n"
   ]
  },
  {
   "cell_type": "code",
   "execution_count": 10,
   "metadata": {
    "scrolled": true
   },
   "outputs": [
    {
     "name": "stdout",
     "output_type": "stream",
     "text": [
      "Train on 720 samples, validate on 81 samples\n",
      "Epoch 1/40\n",
      "720/720 [==============================] - 1s 1ms/step - loss: 0.5826 - acc: 0.6917 - val_loss: 0.5282 - val_acc: 0.7407\n",
      "Epoch 2/40\n",
      "720/720 [==============================] - 0s 86us/step - loss: 0.5339 - acc: 0.7611 - val_loss: 0.5015 - val_acc: 0.8025\n",
      "Epoch 3/40\n",
      "720/720 [==============================] - 0s 76us/step - loss: 0.5066 - acc: 0.8069 - val_loss: 0.4871 - val_acc: 0.7901\n",
      "Epoch 4/40\n",
      "720/720 [==============================] - 0s 105us/step - loss: 0.4860 - acc: 0.8167 - val_loss: 0.4722 - val_acc: 0.8025\n",
      "Epoch 5/40\n",
      "720/720 [==============================] - 0s 112us/step - loss: 0.4684 - acc: 0.8236 - val_loss: 0.4630 - val_acc: 0.8025\n",
      "Epoch 6/40\n",
      "720/720 [==============================] - 0s 103us/step - loss: 0.4516 - acc: 0.8306 - val_loss: 0.4553 - val_acc: 0.8272\n",
      "Epoch 7/40\n",
      "720/720 [==============================] - 0s 94us/step - loss: 0.4357 - acc: 0.8306 - val_loss: 0.4476 - val_acc: 0.8148\n",
      "Epoch 8/40\n",
      "720/720 [==============================] - 0s 76us/step - loss: 0.4233 - acc: 0.8347 - val_loss: 0.4429 - val_acc: 0.8148\n",
      "Epoch 9/40\n",
      "720/720 [==============================] - 0s 99us/step - loss: 0.4134 - acc: 0.8333 - val_loss: 0.4317 - val_acc: 0.8025\n",
      "Epoch 10/40\n",
      "720/720 [==============================] - 0s 92us/step - loss: 0.4079 - acc: 0.8417 - val_loss: 0.4527 - val_acc: 0.7654\n",
      "Epoch 11/40\n",
      "720/720 [==============================] - 0s 87us/step - loss: 0.3985 - acc: 0.8403 - val_loss: 0.4331 - val_acc: 0.8148\n",
      "\n",
      "Epoch 00011: ReduceLROnPlateau reducing learning rate to 0.0006000000284984708.\n",
      "Epoch 12/40\n",
      "720/720 [==============================] - 0s 76us/step - loss: 0.3926 - acc: 0.8403 - val_loss: 0.4318 - val_acc: 0.8148\n",
      "\n",
      "Epoch 00012: ReduceLROnPlateau reducing learning rate to 0.0003600000170990825.\n",
      "Epoch 13/40\n",
      "720/720 [==============================] - 0s 84us/step - loss: 0.3885 - acc: 0.8431 - val_loss: 0.4361 - val_acc: 0.7901\n",
      "\n",
      "Epoch 00013: ReduceLROnPlateau reducing learning rate to 0.00021600000327453016.\n",
      "Epoch 14/40\n",
      "720/720 [==============================] - 0s 71us/step - loss: 0.3862 - acc: 0.8444 - val_loss: 0.4291 - val_acc: 0.8148\n",
      "Epoch 15/40\n",
      "720/720 [==============================] - 0s 80us/step - loss: 0.3856 - acc: 0.8431 - val_loss: 0.4301 - val_acc: 0.7901\n",
      "Epoch 16/40\n",
      "720/720 [==============================] - 0s 96us/step - loss: 0.3843 - acc: 0.8444 - val_loss: 0.4315 - val_acc: 0.7901\n",
      "\n",
      "Epoch 00016: ReduceLROnPlateau reducing learning rate to 0.00012960000021848827.\n",
      "Epoch 17/40\n",
      "720/720 [==============================] - 0s 74us/step - loss: 0.3830 - acc: 0.8458 - val_loss: 0.4300 - val_acc: 0.7901\n",
      "\n",
      "Epoch 00017: ReduceLROnPlateau reducing learning rate to 7.775999838486313e-05.\n",
      "Epoch 18/40\n",
      "720/720 [==============================] - 0s 92us/step - loss: 0.3823 - acc: 0.8458 - val_loss: 0.4279 - val_acc: 0.7901\n",
      "Epoch 19/40\n",
      "720/720 [==============================] - 0s 102us/step - loss: 0.3818 - acc: 0.8458 - val_loss: 0.4283 - val_acc: 0.7901\n",
      "Epoch 20/40\n",
      "720/720 [==============================] - 0s 89us/step - loss: 0.3815 - acc: 0.8458 - val_loss: 0.4286 - val_acc: 0.7901\n",
      "\n",
      "Epoch 00020: ReduceLROnPlateau reducing learning rate to 4.6655999904032795e-05.\n",
      "Epoch 21/40\n",
      "720/720 [==============================] - 0s 88us/step - loss: 0.3812 - acc: 0.8458 - val_loss: 0.4274 - val_acc: 0.7901\n",
      "Epoch 22/40\n",
      "720/720 [==============================] - 0s 89us/step - loss: 0.3809 - acc: 0.8458 - val_loss: 0.4279 - val_acc: 0.7901\n",
      "Epoch 23/40\n",
      "720/720 [==============================] - 0s 91us/step - loss: 0.3808 - acc: 0.8458 - val_loss: 0.4287 - val_acc: 0.7901\n",
      "\n",
      "Epoch 00023: ReduceLROnPlateau reducing learning rate to 2.799360081553459e-05.\n",
      "Epoch 24/40\n",
      "720/720 [==============================] - 0s 87us/step - loss: 0.3804 - acc: 0.8458 - val_loss: 0.4284 - val_acc: 0.7901\n",
      "\n",
      "Epoch 00024: ReduceLROnPlateau reducing learning rate to 1.6796160707599483e-05.\n",
      "Epoch 25/40\n",
      "720/720 [==============================] - 0s 109us/step - loss: 0.3803 - acc: 0.8458 - val_loss: 0.4282 - val_acc: 0.7901\n",
      "\n",
      "Epoch 00025: ReduceLROnPlateau reducing learning rate to 1.007769642455969e-05.\n",
      "Epoch 26/40\n",
      "720/720 [==============================] - 0s 92us/step - loss: 0.3802 - acc: 0.8458 - val_loss: 0.4282 - val_acc: 0.7901\n",
      "\n",
      "Epoch 00026: ReduceLROnPlateau reducing learning rate to 1e-05.\n",
      "Epoch 27/40\n",
      "720/720 [==============================] - 0s 105us/step - loss: 0.3802 - acc: 0.8458 - val_loss: 0.4282 - val_acc: 0.7901\n",
      "Epoch 28/40\n",
      "720/720 [==============================] - 0s 96us/step - loss: 0.3802 - acc: 0.8458 - val_loss: 0.4282 - val_acc: 0.7901\n",
      "Epoch 29/40\n",
      "720/720 [==============================] - 0s 85us/step - loss: 0.3801 - acc: 0.8458 - val_loss: 0.4281 - val_acc: 0.7901\n",
      "Epoch 30/40\n",
      "720/720 [==============================] - 0s 90us/step - loss: 0.3801 - acc: 0.8458 - val_loss: 0.4281 - val_acc: 0.7901\n",
      "Epoch 31/40\n",
      "720/720 [==============================] - 0s 79us/step - loss: 0.3800 - acc: 0.8458 - val_loss: 0.4283 - val_acc: 0.7901\n",
      "Epoch 32/40\n",
      "720/720 [==============================] - 0s 73us/step - loss: 0.3800 - acc: 0.8458 - val_loss: 0.4283 - val_acc: 0.7901\n",
      "Epoch 33/40\n",
      "720/720 [==============================] - 0s 76us/step - loss: 0.3800 - acc: 0.8458 - val_loss: 0.4283 - val_acc: 0.7901\n",
      "Epoch 34/40\n",
      "720/720 [==============================] - 0s 86us/step - loss: 0.3799 - acc: 0.8458 - val_loss: 0.4280 - val_acc: 0.7901\n",
      "Epoch 35/40\n",
      "720/720 [==============================] - 0s 83us/step - loss: 0.3799 - acc: 0.8458 - val_loss: 0.4281 - val_acc: 0.7901\n",
      "Epoch 36/40\n",
      "720/720 [==============================] - 0s 87us/step - loss: 0.3798 - acc: 0.8458 - val_loss: 0.4281 - val_acc: 0.7901\n",
      "Epoch 37/40\n",
      "720/720 [==============================] - 0s 72us/step - loss: 0.3798 - acc: 0.8458 - val_loss: 0.4283 - val_acc: 0.7901\n",
      "Epoch 38/40\n",
      "720/720 [==============================] - 0s 83us/step - loss: 0.3798 - acc: 0.8458 - val_loss: 0.4283 - val_acc: 0.7901\n",
      "Epoch 39/40\n",
      "720/720 [==============================] - 0s 102us/step - loss: 0.3797 - acc: 0.8458 - val_loss: 0.4281 - val_acc: 0.7901\n",
      "Epoch 40/40\n",
      "720/720 [==============================] - 0s 113us/step - loss: 0.3797 - acc: 0.8458 - val_loss: 0.4282 - val_acc: 0.7901\n"
     ]
    }
   ],
   "source": [
    "# Set a learning rate annealer\n",
    "from keras.callbacks import ReduceLROnPlateau, EarlyStopping\n",
    "lr_reduction= ReduceLROnPlateau(monitor='val_loss',factor=0.6, min_lr=0.00001,patience=1,verbose=1)\n",
    "\n",
    "history= model.fit(X_train,y_train,batch_size=32,epochs=40,validation_split=0.1,callbacks=[lr_reduction])"
   ]
  },
  {
   "cell_type": "code",
   "execution_count": 11,
   "metadata": {},
   "outputs": [
    {
     "name": "stdout",
     "output_type": "stream",
     "text": [
      "Test Accuracy: 0.833333333333\n"
     ]
    },
    {
     "data": {
      "text/plain": [
       "<matplotlib.axes._subplots.AxesSubplot at 0x7efe037f4400>"
      ]
     },
     "execution_count": 11,
     "metadata": {},
     "output_type": "execute_result"
    },
    {
     "data": {
      "image/png": "[encoded data removed]",
      "text/plain": [
       "<matplotlib.figure.Figure at 0x7efe037dbd68>"
      ]
     },
     "metadata": {},
     "output_type": "display_data"
    }
   ],
   "source": [
    "y_pred=model.predict(X_test)\n",
    "y_predd=np.argmax(y_pred,axis=1)\n",
    "y_testt=np.argmax(y_test.values,axis=1)\n",
    "#print(y_predd)\n",
    "print(\"Test Accuracy:\",accuracy_score(y_testt,y_predd) )\n",
    "\n",
    "historydf= pd.DataFrame(history.history, index=history.epoch)\n",
    "historydf.plot()"
   ]
  },
  {
   "cell_type": "code",
   "execution_count": 12,
   "metadata": {
    "collapsed": true
   },
   "outputs": [],
   "source": [
    "# Starting with test part\n",
    "\n",
    "df_tst = pd.read_csv(\"./test.csv\")\n",
    "\n",
    "df1_tst =pclass_process(df_tst)\n",
    "df2_tst=fare_process(df_tst)\n",
    "df3_tst=embarked_process(df_tst)\n",
    "df4_tst=age_process(df_tst)\n",
    "df5_tst=sex_process(df_tst)\n",
    "df6_tst=name_process(df_tst)\n",
    "df7_tst=family_size(df_tst)\n",
    "\n",
    "\n",
    "X_tst=pd.concat([df_tst[\"SibSp\"],df_tst[\"Parch\"],df1_tst,df2_tst,df3_tst,df4_tst,df5_tst,df6_tst,df7_tst],axis=1)\n",
    "\n",
    "y_tst_pred=model.predict(X_tst)\n",
    "y_result=np.argmax(y_tst_pred,axis=1)\n"
   ]
  },
  {
   "cell_type": "code",
   "execution_count": 13,
   "metadata": {
    "collapsed": true
   },
   "outputs": [],
   "source": [
    "y_result\n",
    "final_results=pd.concat([df_tst[\"PassengerId\"], pd.DataFrame(y_result)],axis=1)\n",
    "final_results.to_csv(\"res.csv\")\n"
   ]
  }
 ],
 "metadata": {
  "kernelspec": {
   "display_name": "Python 3",
   "language": "python",
   "name": "python3"
  },
  "language_info": {
   "codemirror_mode": {
    "name": "ipython",
    "version": 3
   },
   "file_extension": ".py",
   "mimetype": "text/x-python",
   "name": "python",
   "nbconvert_exporter": "python",
   "pygments_lexer": "ipython3",
   "version": "3.6.3"
  }
 },
 "nbformat": 4,
 "nbformat_minor": 2
}
